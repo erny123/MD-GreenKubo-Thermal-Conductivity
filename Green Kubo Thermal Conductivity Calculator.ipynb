{
 "cells": [
  {
   "cell_type": "markdown",
   "metadata": {},
   "source": [
    "# Green Kubo Thermal Conductivity Calculator <br>\n",
    "#### By Ernesto Barraza-Valdez \n",
    "#### ernestob@uci.edu \n",
    "#### 10/30/2020 \n",
    "\n",
    "This notebook is to calculate the thermal conductivity using the Green-Kubo Heat Flux autocorrelation method. The steps and techniques are followed from Chen et al:\n",
    "\n",
    "Chen, J., Zhang, G., & Li, B. (2010). How to improve the accuracy of equilibrium molecular dynamics for computation of thermal conductivity?. Physics Letters A, 374(23), 2392-2396.\n",
    "\n",
    "We have used a 15x15x15 (lattice parameter) Si system with a total of 27,000 atoms at 1,000K. \n",
    "LAMMPS is told to calculate and output the total heat flux using *compute heat/flux* in the folowing way:\n",
    "\n",
    "compute         myKE all ke/atom <br>\n",
    "compute         myPE all pe/atom <br>\n",
    "compute         myStress all stress/atom NULL virial <br>\n",
    "compute         flux all heat/flux myKE myPE myStress <br>\n",
    "variable        Jx equal c_flux[1]/vol <br>\n",
    "variable        Jy equal c_flux[2]/vol <br>\n",
    "variable        Jz equal c_flux[3]/vol <br>\n",
    "\n",
    "The heat flux outputs for *Jx*, *Jy*, *Jz* were converted to a .csv file where it is then imported into python via pandas\n",
    "\n",
    "Note: Chen et al uses Stillinger-Weber potential for Si. In this notebook, tersoff potential is used. \n",
    "\n",
    "\n",
    "---"
   ]
  },
  {
   "cell_type": "code",
   "execution_count": 1,
   "metadata": {},
   "outputs": [],
   "source": [
    "import pandas as pd\n",
    "import numpy as np\n",
    "import matplotlib.pyplot as plt\n",
    "from scipy.optimize import curve_fit"
   ]
  },
  {
   "cell_type": "markdown",
   "metadata": {},
   "source": [
    "We load the heat flux values from a csv file using pandas data analytics library"
   ]
  },
  {
   "cell_type": "code",
   "execution_count": 2,
   "metadata": {},
   "outputs": [],
   "source": [
    "HF = pd.read_csv(\"Flux1000k.csv\")"
   ]
  },
  {
   "cell_type": "code",
   "execution_count": 3,
   "metadata": {},
   "outputs": [
    {
     "name": "stdout",
     "output_type": "stream",
     "text": [
      "   Step        Temp      v_Jx      v_Jy      v_Jz\n",
      "0     0  1000.00000  0.000362  0.002685 -0.003382\n",
      "1     1   999.05959  0.000145  0.002669 -0.003291\n",
      "2     2   998.05535 -0.000184  0.002560 -0.003156\n",
      "3     3   997.07572 -0.000555  0.002386 -0.002975\n",
      "4     4   996.17734 -0.000844  0.002139 -0.002719\n"
     ]
    }
   ],
   "source": [
    "print(HF.head())"
   ]
  },
  {
   "cell_type": "markdown",
   "metadata": {},
   "source": [
    "After reading the heat fluxes from the csv file we convert the data into numpy array"
   ]
  },
  {
   "cell_type": "code",
   "execution_count": 12,
   "metadata": {},
   "outputs": [],
   "source": [
    "Jx = np.transpose(HF[['v_Jx']].values)[0];\n",
    "Jy = np.transpose(HF[['v_Jy']].values)[0];\n",
    "Jz = np.transpose(HF[['v_Jz']].values)[0];"
   ]
  },
  {
   "cell_type": "markdown",
   "metadata": {},
   "source": [
    "---\n",
    "To do Solve for the Autocorrelation function we use the algorithm formulated in the wikipedia article and stackoverflow:\n",
    "https://stackoverflow.com/questions/14297012/estimate-autocorrelation-using-python\n",
    "\n",
    "https://en.wikipedia.org/wiki/Autocorrelation#Estimation\n",
    " \n",
    "Basically the autocorrelation function $ A_{corr}(\\tau)$ for a certain correlation length $\\tau$ can be described as:\n",
    "\n",
    "$ A_{corr}(\\tau) = \\frac{1}{(n - \\tau)\\sigma^2 } \\sum \\limits _{t=1} ^{n-\\tau} (X_t - \\mu)\\bullet(X_{t+\\tau} - \\mu)$\n",
    "\n",
    "where $ \\mu = \\bar{X} $ is the mean of the data set and $ \\sigma^2 = var(X) $ is the variance of the data set X. The total time (or length) of the data set is $ n $\n",
    "\n",
    "We need to do this for all three directions of the heat flux $ \\bar{J} = J_x\\hat{x}+J_y\\hat{y}+J_z\\hat{z}$\n",
    "\n",
    "Notice that we use the np.correlate function which is a full convolution of the data as shown in the following links:\n",
    "https://numpy.org/doc/stable/reference/generated/numpy.correlate.html\n",
    "\n",
    "https://numpy.org/doc/stable/reference/generated/numpy.convolve.html#numpy.convolve"
   ]
  },
  {
   "cell_type": "code",
   "execution_count": 13,
   "metadata": {},
   "outputs": [
    {
     "name": "stdout",
     "output_type": "stream",
     "text": [
      "Wall time: 5min 2s\n"
     ]
    }
   ],
   "source": [
    "%%time\n",
    "l = len(Jx)\n",
    "#Subtract mean from Jx\n",
    "Jxm = Jx-Jx.mean()\n",
    "cx = np.correlate(Jxm,Jxm, mode='full')[-l:]\n",
    "acx = cx/(Jx.var())/np.arange(l,0,-1)\n",
    "\n",
    "l = len(Jy)\n",
    "#Subtract mean from Jx\n",
    "Jym = Jy-Jy.mean()\n",
    "cy = np.correlate(Jym,Jym, mode='full')[-l:]\n",
    "acy = cy/(Jy.var())/np.arange(l,0,-1)\n",
    "\n",
    "l = len(Jz)\n",
    "#Subtract mean from Jx\n",
    "Jzm = Jz-Jz.mean()\n",
    "cz = np.correlate(Jzm,Jzm, mode='full')[-l:]\n",
    "acz = cz/(Jz.var())/np.arange(l,0,-1)"
   ]
  },
  {
   "cell_type": "markdown",
   "metadata": {},
   "source": [
    "Thie correlation function is pretty quick even with 1000000 steps (i.e. full 1ns simulation using 0.001 ps steps)\n",
    "On my 3Ghz desktop it takes around 10 minutes"
   ]
  },
  {
   "cell_type": "code",
   "execution_count": 15,
   "metadata": {},
   "outputs": [
    {
     "data": {
      "text/plain": [
       "Text(0.5, 0, 'correlation length (ps)')"
      ]
     },
     "execution_count": 15,
     "metadata": {},
     "output_type": "execute_result"
    },
    {
     "data": {
      "image/png": "[encoded data removed]",
      "text/plain": [
       "<Figure size 432x288 with 1 Axes>"
      ]
     },
     "metadata": {
      "needs_background": "light"
     },
     "output_type": "display_data"
    }
   ],
   "source": [
    "t = np.arange(0.001,len(acx)*.001+.001,0.001)\n",
    "\n",
    "plt.plot(t,acx, label=\"in x-direction\")\n",
    "plt.plot(t,acy,label=\"in y-direction\")\n",
    "plt.plot(t,acz,label=\"in z-direction\")\n",
    "plt.xscale('log')\n",
    "plt.ylim([-.1,1.2])\n",
    "plt.xlim(0.001,500)\n",
    "plt.legend()\n",
    "plt.ylabel(\"$ \\\\frac{<J_i(0)\\cdot J_i(t)>}{<J_i(0)\\cdot J_i(0)>}$\", fontsize =20)\n",
    "plt.xlabel(\"correlation length (ps)\", fontsize = 12)"
   ]
  },
  {
   "cell_type": "markdown",
   "metadata": {},
   "source": [
    "We see that the $ A_{corr} = \\frac{<J_i(0)\\cdot J_i(t)>}{<J_i(0)\\cdot J_i(0)>} $ has a lot of noise. According to numerous literature, this is due to computational error. Perhaps choosing a smaller timestep reduces this (unknown at the moment)? \n",
    "So we want to do a curve fit. \n",
    "Chen et al proposed a double exponential fit of the form:\n",
    "\n",
    "$ A_{corr}(t) = \\frac{Cor(t)}{Cor(0)} = A_1 e^{-t/\\tau_1} + A_2 e^{-t/\\tau_2} +Y_0 $\n",
    "\n",
    "We can then use Scipy's optimize curve fit to find this function and solve for both $ \\tau_1$, $\\tau_2$, $A_1$, $A_2$, $Y_0$\n",
    "\n",
    "Chen, J., Zhang, G., & Li, B. (2010). How to improve the accuracy of equilibrium molecular dynamics for computation of thermal conductivity?. Physics Letters A, 374(23), 2392-2396.\n"
   ]
  },
  {
   "cell_type": "code",
   "execution_count": 107,
   "metadata": {},
   "outputs": [],
   "source": [
    "#Define function for fitting as Chen et al said: double exponential\n",
    "def ACF_fit(x, A, B, C, n, m):\n",
    "    return A*np.exp(-x/n)+B*np.exp(-x/m)+C"
   ]
  },
  {
   "cell_type": "code",
   "execution_count": 17,
   "metadata": {},
   "outputs": [
    {
     "name": "stderr",
     "output_type": "stream",
     "text": [
      "C:\\Users\\Ern\\anaconda3\\lib\\site-packages\\ipykernel_launcher.py:3: RuntimeWarning: overflow encountered in exp\n",
      "  This is separate from the ipykernel package so we can avoid doing imports until\n",
      "C:\\Users\\Ern\\anaconda3\\lib\\site-packages\\ipykernel_launcher.py:3: RuntimeWarning: overflow encountered in multiply\n",
      "  This is separate from the ipykernel package so we can avoid doing imports until\n",
      "C:\\Users\\Ern\\anaconda3\\lib\\site-packages\\ipykernel_launcher.py:3: RuntimeWarning: invalid value encountered in add\n",
      "  This is separate from the ipykernel package so we can avoid doing imports until\n"
     ]
    },
    {
     "name": "stdout",
     "output_type": "stream",
     "text": [
      "[ 1.08755952e+00  1.41178846e-01 -3.22215666e-04  8.94234868e-03\n",
      "  4.22784998e+00]\n"
     ]
    }
   ],
   "source": [
    "x = np.arange(0.001,len(acx)*.001+.001,0.001)\n",
    "pars, cov = curve_fit(ACF_fit, x, acx)\n",
    "print(pars)"
   ]
  },
  {
   "cell_type": "markdown",
   "metadata": {},
   "source": [
    "We have obtained all 5 parameters. Our last to, labeled in our script as 'n' and 'm' are our two relaxation times for fast optical phonons and acoustic phonons, $\\tau_1$ and $\\tau_2$ respectively. "
   ]
  },
  {
   "cell_type": "code",
   "execution_count": 18,
   "metadata": {},
   "outputs": [
    {
     "data": {
      "text/plain": [
       "Text(0.5, 0, 'correlation length (ps)')"
      ]
     },
     "execution_count": 18,
     "metadata": {},
     "output_type": "execute_result"
    },
    {
     "data": {
      "image/png": "[encoded data removed]",
      "text/plain": [
       "<Figure size 432x288 with 1 Axes>"
      ]
     },
     "metadata": {
      "needs_background": "light"
     },
     "output_type": "display_data"
    }
   ],
   "source": [
    "plt.plot(x,ACF_fit(x, pars[0],pars[1],pars[2],pars[3],pars[4]), label=\"Optimized Double Exponential Fit\")\n",
    "plt.plot(x,acx, label=\"Simulation Results\")\n",
    "plt.xscale('log')\n",
    "plt.ylim([-.1,1.2])\n",
    "plt.xlim(0.001,500)\n",
    "plt.legend()\n",
    "plt.ylabel(\"$ \\\\frac{<J_i(0)\\cdot J_i(t)>}{<J_i(0)\\cdot J_i(0)>}$\", fontsize =20)\n",
    "plt.xlabel(\"correlation length (ps)\", fontsize = 12)"
   ]
  },
  {
   "cell_type": "markdown",
   "metadata": {},
   "source": [
    "We can see that the double exponential fit is very close. To sum up Chen et al's work, the two exponential functions are because of the relaxation time due to fast (short wavelength) optical phonons and slow (long wavelength) phonons corresponding to $\\tau_1$ and $\\tau_2$ respectively. \n",
    "\n",
    "Now we will find the relative error fluctuation (description of the numerical error)\n",
    "\n",
    "$F(t) = | \\frac{\\sigma(Cor(t))}{E(Cor(t))} | $\n",
    "\n",
    "Where $\\sigma$ is the standard deviation and $E$ is the mean\n",
    "NOTE: standard deviation is the square of the variance\n",
    "\n",
    "Note: The $t$ dependence is actually not from 0 to $t$ but from $t$ to $\\delta t$\n",
    "\n",
    "where $\\delta t$ is some interval of time. Chen et all says choosing $\\delta t$ affects the cuttoff time $\\tau_c$. I have found the larger you choose the more smoothed out the $F(t)$ and $E$ graphs get. A good choice that shows the beginning of smooting is 8000 which corresponds to 8 ps and is not to computationally intensive"
   ]
  },
  {
   "cell_type": "code",
   "execution_count": 93,
   "metadata": {},
   "outputs": [
    {
     "name": "stdout",
     "output_type": "stream",
     "text": [
      "Wall time: 25.8 s\n"
     ]
    }
   ],
   "source": [
    "%%time\n",
    "\n",
    "F = np.zeros(len(Jx))\n",
    "cor = acx * Jx.var()\n",
    "for j in range(500000):\n",
    "    F[j] = np.absolute(np.sqrt(cor[j:j+8000].var())/np.mean(cor[j:j+8000]))"
   ]
  },
  {
   "cell_type": "code",
   "execution_count": 66,
   "metadata": {},
   "outputs": [
    {
     "data": {
      "text/plain": [
       "5.558903741246144"
      ]
     },
     "execution_count": 66,
     "metadata": {},
     "output_type": "execute_result"
    }
   ],
   "source": [
    "np.absolute(np.sqrt(cor[:100010].var())/np.mean(cor[:100010]))"
   ]
  },
  {
   "cell_type": "code",
   "execution_count": 94,
   "metadata": {},
   "outputs": [
    {
     "name": "stderr",
     "output_type": "stream",
     "text": [
      "No handles with labels found to put in legend.\n"
     ]
    },
    {
     "data": {
      "text/plain": [
       "Text(0.5, 0, 'correlation length (ps)')"
      ]
     },
     "execution_count": 94,
     "metadata": {},
     "output_type": "execute_result"
    },
    {
     "data": {
      "image/png": "[encoded data removed]",
      "text/plain": [
       "<Figure size 432x288 with 1 Axes>"
      ]
     },
     "metadata": {
      "needs_background": "light"
     },
     "output_type": "display_data"
    }
   ],
   "source": [
    "plt.plot(x[:500000],F[:500000])\n",
    "plt.xscale('log')\n",
    "plt.yscale('log')\n",
    "plt.ylim([0.1,100])\n",
    "plt.xlim(0.001,500)\n",
    "plt.legend()\n",
    "plt.ylabel(\"$ F(t)$\", fontsize =20)\n",
    "plt.xlabel(\"correlation length (ps)\", fontsize = 12)"
   ]
  },
  {
   "cell_type": "markdown",
   "metadata": {},
   "source": [
    "In figure 1 of Chen et al, inside the $F(t)$ plots they also show plots of:\n",
    "$E(Cor(t)/Cor(0))$ which is just $E(A_{corr}(t))$\n",
    "\n",
    "Note: The $t$ dependence is actually not from 0 to $t$ but from $t$ to $\\delta t$\n",
    "\n",
    "we have chosen $\\delta t$ to be 8000 steps or 8 ps as mentioned above"
   ]
  },
  {
   "cell_type": "code",
   "execution_count": 95,
   "metadata": {},
   "outputs": [
    {
     "name": "stdout",
     "output_type": "stream",
     "text": [
      "Wall time: 5.88 s\n"
     ]
    }
   ],
   "source": [
    "%%time\n",
    "E = np.zeros(len(acx))\n",
    "for j in range(500000):\n",
    "    E[j] = np.mean(acx[j:j+8000])"
   ]
  },
  {
   "cell_type": "code",
   "execution_count": 100,
   "metadata": {},
   "outputs": [
    {
     "name": "stderr",
     "output_type": "stream",
     "text": [
      "No handles with labels found to put in legend.\n"
     ]
    },
    {
     "data": {
      "text/plain": [
       "<matplotlib.lines.Line2D at 0x2f6d5766c88>"
      ]
     },
     "execution_count": 100,
     "metadata": {},
     "output_type": "execute_result"
    },
    {
     "data": {
      "image/png": "[encoded data removed]",
      "text/plain": [
       "<Figure size 432x288 with 1 Axes>"
      ]
     },
     "metadata": {
      "needs_background": "light"
     },
     "output_type": "display_data"
    }
   ],
   "source": [
    "plt.plot(x[:500000],E[:500000])\n",
    "#plt.xscale('log')\n",
    "#plt.yscale('log')\n",
    "plt.ylim([-0.05 ,0.05])\n",
    "plt.xlim(0,100)\n",
    "plt.legend()\n",
    "plt.ylabel(\"$ E(t)$\", fontsize =20)\n",
    "plt.xlabel(\"correlation length (ps)\", fontsize = 12)\n",
    "plt.axhline(y=0, color='black')"
   ]
  },
  {
   "cell_type": "markdown",
   "metadata": {},
   "source": [
    "We can see that the first peak in $F(T)$ and first zero in $E(T)$ correspond to each other at around 18 ps. \n",
    "\n",
    "We will call this $\\tau_c = 18 ps$"
   ]
  },
  {
   "cell_type": "markdown",
   "metadata": {},
   "source": [
    "---\n",
    "Now we will begin integration process. We will use loop that does trapezoidal integration. First, we loop to calculate trapezoidal area for each individual point(bin). Then we sum according to correlation time length (sum trapezoids). The reason for implementing my own trapezoidal integration loop is because numpy's trapezoidal integration function must be implemented for every new correlation time length. This causes a huge slowdown. It is better to calculate the area for each individual dt integration and sum them up according to correlation time length\n",
    "\n",
    "NOTE: We will just show it to 500 ps because Chen et al only has to this time."
   ]
  },
  {
   "cell_type": "code",
   "execution_count": 35,
   "metadata": {},
   "outputs": [
    {
     "name": "stdout",
     "output_type": "stream",
     "text": [
      "Wall time: 495 ms\n"
     ]
    }
   ],
   "source": [
    "%%time\n",
    "kx = np.zeros(500000)\n",
    "for j in range(1,500000):\n",
    "    kx[j] = 0.001/2*(acx[j]+acx[j-1])\n",
    "    "
   ]
  },
  {
   "cell_type": "code",
   "execution_count": 36,
   "metadata": {},
   "outputs": [
    {
     "name": "stdout",
     "output_type": "stream",
     "text": [
      "Wall time: 50.1 s\n"
     ]
    }
   ],
   "source": [
    "%%time\n",
    "kkx = np.zeros(500000)\n",
    "for j in range(1,500000):\n",
    "    kkx[j] = np.sum(kx[:j])"
   ]
  },
  {
   "cell_type": "markdown",
   "metadata": {},
   "source": [
    "Now we will do it for the double exponential fit"
   ]
  },
  {
   "cell_type": "code",
   "execution_count": 21,
   "metadata": {},
   "outputs": [
    {
     "name": "stdout",
     "output_type": "stream",
     "text": [
      "Wall time: 526 ms\n"
     ]
    }
   ],
   "source": [
    "%%time\n",
    "acxf = ACF_fit(x[:500000], pars[0],pars[1],pars[2],pars[3],pars[4])\n",
    "fitkx = np.zeros(500000)\n",
    "for j in range(1,500000):\n",
    "    fitkx[j] = 0.001/2*(acxf[j]+acxf[j-1])\n",
    "    "
   ]
  },
  {
   "cell_type": "code",
   "execution_count": 22,
   "metadata": {},
   "outputs": [
    {
     "name": "stdout",
     "output_type": "stream",
     "text": [
      "Wall time: 51.4 s\n"
     ]
    }
   ],
   "source": [
    "%%time\n",
    "fitkkx = np.zeros(500000)\n",
    "for j in range(1,500000):\n",
    "    fitkkx[j] = np.sum(fitkx[:j])"
   ]
  },
  {
   "cell_type": "markdown",
   "metadata": {},
   "source": [
    "To plot Thermal conductivity we note that our previous autocorrelation function was normalized by the variance. So we must multiply by the variance $\\sigma$ of $J_x$. \n",
    "\n",
    "Second, we note that the units of $J_x$ coming out of lammps are specific (using metal units). \n",
    "The input file uses metal units and divides the total $J$ by the volume of the system in order to get units of $\\frac{eV}{Å^{2} ps}$ which we must square for the correlation function:\n",
    "\n",
    "$\\frac{eV^2}{Å^{4} ps^2}$\n",
    "\n",
    "BUt for the thermal conductivity integral we multiply by our time dt which is in $ps$ so that it cancels one of the $ps$ so we have: $\\frac{eV^2}{Å^{4} ps}$\n",
    "\n",
    "The LAMMPS page:\n",
    "https://lammps.sandia.gov/doc/compute_heat_flux.html\n",
    "\n",
    "Tells us to multiply by the volume over temperature such as:\n",
    "\n",
    "$\\frac{V}{k_b T^2}$ \n",
    "\n",
    "Multiplying the units of this with the above gives us:\n",
    "\n",
    "$ \\frac{Å^3}{\\frac{eV}{K} K^2} \\cdot \\frac{eV^2}{Å^{4}ps}  = \\frac{eV}{ps\\cdot Å\\cdot K}$\n",
    "\n",
    "So then to get into SI units we must convert by the following:\n",
    "\n",
    "$\\frac{eV}{ps\\cdot Å\\cdot K}\\cdot (1.6E-19 J/eV)/(1E-12 s/ps)/(1E-10 m/Å)$\n",
    "\n",
    "We must remember, not only to multiply by the above conversion factors but also by the Volume in angstroms, divide by boltzman constant, and divide by the square of temperature in kelvin.\n"
   ]
  },
  {
   "cell_type": "code",
   "execution_count": 37,
   "metadata": {},
   "outputs": [
    {
     "data": {
      "text/plain": [
       "Text(0.5, 0, 'correlation length (ps)')"
      ]
     },
     "execution_count": 37,
     "metadata": {},
     "output_type": "execute_result"
    },
    {
     "data": {
      "image/png": "[encoded data removed]",
      "text/plain": [
       "<Figure size 432x288 with 1 Axes>"
      ]
     },
     "metadata": {
      "needs_background": "light"
     },
     "output_type": "display_data"
    }
   ],
   "source": [
    "V = np.power(15.0*3.567,3)\n",
    "T = 1000.0\n",
    "kapx = kkx[:500000]*Jx.var()*V/np.power(T,2)*(1.6*np.power(10.0,-19))/(np.power(10.0,-12))/(np.power(10.0,-10))/(8.567*np.power(10.0,-5))\n",
    "fitkapx = fitkkx[:500000]*Jx.var()*V/np.power(T,2)*(1.6*np.power(10.0,-19))/(np.power(10.0,-12))/(np.power(10.0,-10))/(8.567*np.power(10.0,-5))\n",
    "plt.plot(x[:500000],kapx, label = \"raw integration\")\n",
    "plt.plot(x[:500000],fitkapx, label=\"double exponential fit integration\")\n",
    "plt.xscale('log')\n",
    "plt.legend()\n",
    "plt.ylabel(\"$ \\kappa \\; \\\\frac{J}{m\\cdot s \\cdot K}$\", fontsize =16)\n",
    "plt.xlabel(\"correlation length (ps)\", fontsize = 12)"
   ]
  },
  {
   "cell_type": "markdown",
   "metadata": {},
   "source": [
    "We can calculate the max thermal conductivity from the double exponential fit"
   ]
  },
  {
   "cell_type": "code",
   "execution_count": 38,
   "metadata": {},
   "outputs": [
    {
     "data": {
      "text/plain": [
       "15.014367362473864"
      ]
     },
     "execution_count": 38,
     "metadata": {},
     "output_type": "execute_result"
    }
   ],
   "source": [
    "np.max(fitkapx)"
   ]
  },
  {
   "cell_type": "markdown",
   "metadata": {},
   "source": [
    "To get graphs equivalent to many other works, we want to see it in linear axis:"
   ]
  },
  {
   "cell_type": "code",
   "execution_count": 42,
   "metadata": {},
   "outputs": [
    {
     "data": {
      "text/plain": [
       "Text(0.5, 0, 'correlation length (ps)')"
      ]
     },
     "execution_count": 42,
     "metadata": {},
     "output_type": "execute_result"
    },
    {
     "data": {
      "image/png": "[encoded data removed]",
      "text/plain": [
       "<Figure size 432x288 with 1 Axes>"
      ]
     },
     "metadata": {
      "needs_background": "light"
     },
     "output_type": "display_data"
    }
   ],
   "source": [
    "plt.plot(x[:500000],fitkapx[:500000], label=\"double exponential fit integration\")\n",
    "plt.plot(x[:500000],kapx[:500000], label = \"raw integration\")\n",
    "plt.ylabel(\"$ \\kappa \\; \\\\frac{J}{m\\cdot s \\cdot K}$\", fontsize =16)\n",
    "plt.xlabel(\"correlation length (ps)\", fontsize = 12)"
   ]
  },
  {
   "cell_type": "markdown",
   "metadata": {},
   "source": [
    "---\n",
    "Now we can do the formulaic calculation of the thermal conductivity given by equations (5) and (6) in Chen et al\n",
    "\n",
    "From the above double exponential fit we found the following parameters:\n",
    "\n",
    "$A_1 = 1.08755952$\n",
    "\n",
    "$A_2 = 0.141178846$\n",
    "\n",
    "$Y_0 = -0.000322215666$\n",
    "\n",
    "$\\tau_1 = 0.00894234868$\n",
    "\n",
    "$\\tau_2 = 4.22784998$\n",
    "\n",
    "And we get from the Chen et al's equations:\n",
    "\n",
    "(5) &emsp;  &emsp;     $\\kappa_C(t) = \\frac{Cor(0)}{3 k_B T^2 V} (A_1 \\tau_1 + A_2 \\tau_2)$\n",
    "\n",
    "(6)  &emsp; &emsp;   $\\kappa_F(t) = \\frac{Cor(0)}{3 k_B T^2 V} (A_1 \\tau_1 + A_2 \\tau_2 + Y_0 \\tau_c)$\n",
    "\n",
    "The only thing we need to consider is the actual constants to be multiplied in front $\\frac{Cor(0)}{3 K_B T^2 V}$so that they conform to our LAMMPS output units. So we will multiply with what we did in the previous Thermal Conductivity calculations\n"
   ]
  },
  {
   "cell_type": "code",
   "execution_count": 117,
   "metadata": {},
   "outputs": [
    {
     "name": "stdout",
     "output_type": "stream",
     "text": [
      "Thermal conductivity with out Yo =  15.28676236894355 W/m*s\n",
      "Thermal conductivity with     Yo =  15.140603117355637 W/m*s\n"
     ]
    }
   ],
   "source": [
    "FrontConst = Jx.var()*V/np.power(T,2)*(1.6*np.power(10.0,-19))/(np.power(10.0,-12))/(np.power(10.0,-10))/(8.567*np.power(10.0,-5))\n",
    "\n",
    "A1 = 1.08755952\n",
    "A2 = 0.141178846\n",
    "Y = -0.000322215666\n",
    "tau1 = 0.00894234868\n",
    "tau2 = 4.22784998\n",
    "tauc = 18\n",
    "\n",
    "kc = FrontConst*(A1*tau1+A2*tau2)\n",
    "kf = FrontConst*(A1*tau1+A2*tau2+Y*tauc)\n",
    "\n",
    "print('Thermal conductivity with out Yo = ',kc, 'W/m*s')\n",
    "print('Thermal conductivity with     Yo = ',kf, 'W/m*s')\n"
   ]
  },
  {
   "cell_type": "markdown",
   "metadata": {},
   "source": [
    "Notice that they are almost the same. In Chen et al, they claim the exponential $k_F$ gives closer results to experimental values and direct integration (which we did above). Our direct integration above shows almost exact values to those from the double exponential fit so it is not surprising. "
   ]
  }
 ],
 "metadata": {
  "kernelspec": {
   "display_name": "Python 3",
   "language": "python",
   "name": "python3"
  },
  "language_info": {
   "codemirror_mode": {
    "name": "ipython",
    "version": 3
   },
   "file_extension": ".py",
   "mimetype": "text/x-python",
   "name": "python",
   "nbconvert_exporter": "python",
   "pygments_lexer": "ipython3",
   "version": "3.7.9"
  }
 },
 "nbformat": 4,
 "nbformat_minor": 4
}
